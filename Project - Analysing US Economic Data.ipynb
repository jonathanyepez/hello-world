{
    "nbformat_minor": 2, 
    "cells": [
        {
            "source": "<a><img src=\"https://ibm.box.com/shared/static/ugcqz6ohbvff804xp84y4kqnvvk3bq1g.png\" width=\"200\" align=\"center\"></a>", 
            "cell_type": "markdown", 
            "metadata": {}
        }, 
        {
            "source": "<h1>Analyzing US Economic Data and  Building a Dashboard  </h1>\n<h2>Description</h2>\n", 
            "cell_type": "markdown", 
            "metadata": {}
        }, 
        {
            "source": "Extracting essential data from a dataset and displaying it is a necessary part of data science; therefore individuals can make correct decisions based on the data. In this assignment, you will extract some essential economic indicators from some data, you will then display these economic indicators in a Dashboard. You can then share the dashboard via an URL.\n<p>\n<a href=\"https://en.wikipedia.org/wiki/Gross_domestic_product\"> Gross domestic product (GDP)</a> is a measure of the market value of all the final goods and services produced in a period. GDP is an indicator of how well the economy is doing. A drop in GDP indicates the economy is producing less; similarly an increase in GDP suggests the economy is performing better. In this lab, you will examine how changes in GDP impact the unemployment rate. You will take screen shots of every step, you will share the notebook and the URL pointing to the dashboard.</p>", 
            "cell_type": "markdown", 
            "metadata": {}
        }, 
        {
            "source": "<h2>Table of Contents</h2>\n<div class=\"alert alert-block alert-info\" style=\"margin-top: 20px\">\n    <ul>\n        <li><a href=\"#Section_1\"> Define a Function that Makes a Dashboard </a></li>\n    <li><a href=\"#Section_2\">Question 1: Create a dataframe that contains the GDP data and display it</a> </li>\n    <li><a href=\"#Section_3\">Question 2: Create a dataframe that contains the unemployment data and display it</a></li>\n    <li><a href=\"#Section_4\">Question 3: Display a dataframe where unemployment was greater than 8.5%</a></li>\n    <li><a href=\"#Section_5\">Question 4: Use the function make_dashboard to make a dashboard</a></li>\n     <li><a href=\"#Section_6\">Question 5: Save the dashboard on IBM cloud and display it</a></li>\n    </ul>\n<p>\n    Estimated Time Needed: <strong>180 min</strong></p>\n</div>\n\n<hr>", 
            "cell_type": "markdown", 
            "metadata": {}
        }, 
        {
            "source": "<h2 id=\"Section_1\"> Define Function that Makes a Dashboard  </h2>", 
            "cell_type": "markdown", 
            "metadata": {}
        }, 
        {
            "source": "We will import the following libraries.", 
            "cell_type": "markdown", 
            "metadata": {}
        }, 
        {
            "execution_count": 1, 
            "cell_type": "code", 
            "metadata": {}, 
            "outputs": [
                {
                    "output_type": "display_data", 
                    "data": {
                        "text/html": "\n    <div class=\"bk-root\">\n        <a href=\"https://bokeh.pydata.org\" target=\"_blank\" class=\"bk-logo bk-logo-small bk-logo-notebook\"></a>\n        <span id=\"791c5842-3660-499f-8239-7cec0a72d075\">Loading BokehJS ...</span>\n    </div>"
                    }, 
                    "metadata": {}
                }, 
                {
                    "output_type": "display_data", 
                    "data": {
                        "application/javascript": "\n(function(root) {\n  function now() {\n    return new Date();\n  }\n\n  var force = true;\n\n  if (typeof (root._bokeh_onload_callbacks) === \"undefined\" || force === true) {\n    root._bokeh_onload_callbacks = [];\n    root._bokeh_is_loading = undefined;\n  }\n\n  var JS_MIME_TYPE = 'application/javascript';\n  var HTML_MIME_TYPE = 'text/html';\n  var EXEC_MIME_TYPE = 'application/vnd.bokehjs_exec.v0+json';\n  var CLASS_NAME = 'output_bokeh rendered_html';\n\n  /**\n   * Render data to the DOM node\n   */\n  function render(props, node) {\n    var script = document.createElement(\"script\");\n    node.appendChild(script);\n  }\n\n  /**\n   * Handle when an output is cleared or removed\n   */\n  function handleClearOutput(event, handle) {\n    var cell = handle.cell;\n\n    var id = cell.output_area._bokeh_element_id;\n    var server_id = cell.output_area._bokeh_server_id;\n    // Clean up Bokeh references\n    if (id !== undefined) {\n      Bokeh.index[id].model.document.clear();\n      delete Bokeh.index[id];\n    }\n\n    if (server_id !== undefined) {\n      // Clean up Bokeh references\n      var cmd = \"from bokeh.io.state import curstate; print(curstate().uuid_to_server['\" + server_id + \"'].get_sessions()[0].document.roots[0]._id)\";\n      cell.notebook.kernel.execute(cmd, {\n        iopub: {\n          output: function(msg) {\n            var element_id = msg.content.text.trim();\n            Bokeh.index[element_id].model.document.clear();\n            delete Bokeh.index[element_id];\n          }\n        }\n      });\n      // Destroy server and session\n      var cmd = \"import bokeh.io.notebook as ion; ion.destroy_server('\" + server_id + \"')\";\n      cell.notebook.kernel.execute(cmd);\n    }\n  }\n\n  /**\n   * Handle when a new output is added\n   */\n  function handleAddOutput(event, handle) {\n    var output_area = handle.output_area;\n    var output = handle.output;\n\n    // limit handleAddOutput to display_data with EXEC_MIME_TYPE content only\n    if ((output.output_type != \"display_data\") || (!output.data.hasOwnProperty(EXEC_MIME_TYPE))) {\n      return\n    }\n\n    var toinsert = output_area.element.find(`.${CLASS_NAME.split(' ')[0]}`);\n\n    if (output.metadata[EXEC_MIME_TYPE][\"id\"] !== undefined) {\n      toinsert[0].firstChild.textContent = output.data[JS_MIME_TYPE];\n      // store reference to embed id on output_area\n      output_area._bokeh_element_id = output.metadata[EXEC_MIME_TYPE][\"id\"];\n    }\n    if (output.metadata[EXEC_MIME_TYPE][\"server_id\"] !== undefined) {\n      var bk_div = document.createElement(\"div\");\n      bk_div.innerHTML = output.data[HTML_MIME_TYPE];\n      var script_attrs = bk_div.children[0].attributes;\n      for (var i = 0; i < script_attrs.length; i++) {\n        toinsert[0].firstChild.setAttribute(script_attrs[i].name, script_attrs[i].value);\n      }\n      // store reference to server id on output_area\n      output_area._bokeh_server_id = output.metadata[EXEC_MIME_TYPE][\"server_id\"];\n    }\n  }\n\n  function register_renderer(events, OutputArea) {\n\n    function append_mime(data, metadata, element) {\n      // create a DOM node to render to\n      var toinsert = this.create_output_subarea(\n        metadata,\n        CLASS_NAME,\n        EXEC_MIME_TYPE\n      );\n      this.keyboard_manager.register_events(toinsert);\n      // Render to node\n      var props = {data: data, metadata: metadata[EXEC_MIME_TYPE]};\n      render(props, toinsert[0]);\n      element.append(toinsert);\n      return toinsert\n    }\n\n    /* Handle when an output is cleared or removed */\n    events.on('clear_output.CodeCell', handleClearOutput);\n    events.on('delete.Cell', handleClearOutput);\n\n    /* Handle when a new output is added */\n    events.on('output_added.OutputArea', handleAddOutput);\n\n    /**\n     * Register the mime type and append_mime function with output_area\n     */\n    OutputArea.prototype.register_mime_type(EXEC_MIME_TYPE, append_mime, {\n      /* Is output safe? */\n      safe: true,\n      /* Index of renderer in `output_area.display_order` */\n      index: 0\n    });\n  }\n\n  // register the mime type if in Jupyter Notebook environment and previously unregistered\n  if (root.Jupyter !== undefined) {\n    var events = require('base/js/events');\n    var OutputArea = require('notebook/js/outputarea').OutputArea;\n\n    if (OutputArea.prototype.mime_types().indexOf(EXEC_MIME_TYPE) == -1) {\n      register_renderer(events, OutputArea);\n    }\n  }\n\n  \n  if (typeof (root._bokeh_timeout) === \"undefined\" || force === true) {\n    root._bokeh_timeout = Date.now() + 5000;\n    root._bokeh_failed_load = false;\n  }\n\n  var NB_LOAD_WARNING = {'data': {'text/html':\n     \"<div style='background-color: #fdd'>\\n\"+\n     \"<p>\\n\"+\n     \"BokehJS does not appear to have successfully loaded. If loading BokehJS from CDN, this \\n\"+\n     \"may be due to a slow or bad network connection. Possible fixes:\\n\"+\n     \"</p>\\n\"+\n     \"<ul>\\n\"+\n     \"<li>re-rerun `output_notebook()` to attempt to load from CDN again, or</li>\\n\"+\n     \"<li>use INLINE resources instead, as so:</li>\\n\"+\n     \"</ul>\\n\"+\n     \"<code>\\n\"+\n     \"from bokeh.resources import INLINE\\n\"+\n     \"output_notebook(resources=INLINE)\\n\"+\n     \"</code>\\n\"+\n     \"</div>\"}};\n\n  function display_loaded() {\n    var el = document.getElementById(\"791c5842-3660-499f-8239-7cec0a72d075\");\n    if (el != null) {\n      el.textContent = \"BokehJS is loading...\";\n    }\n    if (root.Bokeh !== undefined) {\n      if (el != null) {\n        el.textContent = \"BokehJS \" + root.Bokeh.version + \" successfully loaded.\";\n      }\n    } else if (Date.now() < root._bokeh_timeout) {\n      setTimeout(display_loaded, 100)\n    }\n  }\n\n\n  function run_callbacks() {\n    try {\n      root._bokeh_onload_callbacks.forEach(function(callback) { callback() });\n    }\n    finally {\n      delete root._bokeh_onload_callbacks\n    }\n    console.info(\"Bokeh: all callbacks have finished\");\n  }\n\n  function load_libs(js_urls, callback) {\n    root._bokeh_onload_callbacks.push(callback);\n    if (root._bokeh_is_loading > 0) {\n      console.log(\"Bokeh: BokehJS is being loaded, scheduling callback at\", now());\n      return null;\n    }\n    if (js_urls == null || js_urls.length === 0) {\n      run_callbacks();\n      return null;\n    }\n    console.log(\"Bokeh: BokehJS not loaded, scheduling load and callback at\", now());\n    root._bokeh_is_loading = js_urls.length;\n    for (var i = 0; i < js_urls.length; i++) {\n      var url = js_urls[i];\n      var s = document.createElement('script');\n      s.src = url;\n      s.async = false;\n      s.onreadystatechange = s.onload = function() {\n        root._bokeh_is_loading--;\n        if (root._bokeh_is_loading === 0) {\n          console.log(\"Bokeh: all BokehJS libraries loaded\");\n          run_callbacks()\n        }\n      };\n      s.onerror = function() {\n        console.warn(\"failed to load library \" + url);\n      };\n      console.log(\"Bokeh: injecting script tag for BokehJS library: \", url);\n      document.getElementsByTagName(\"head\")[0].appendChild(s);\n    }\n  };var element = document.getElementById(\"791c5842-3660-499f-8239-7cec0a72d075\");\n  if (element == null) {\n    console.log(\"Bokeh: ERROR: autoload.js configured with elementid '791c5842-3660-499f-8239-7cec0a72d075' but no matching script tag was found. \")\n    return false;\n  }\n\n  var js_urls = [\"https://cdn.pydata.org/bokeh/release/bokeh-0.12.10.min.js\", \"https://cdn.pydata.org/bokeh/release/bokeh-widgets-0.12.10.min.js\", \"https://cdn.pydata.org/bokeh/release/bokeh-tables-0.12.10.min.js\", \"https://cdn.pydata.org/bokeh/release/bokeh-gl-0.12.10.min.js\"];\n\n  var inline_js = [\n    function(Bokeh) {\n      Bokeh.set_log_level(\"info\");\n    },\n    \n    function(Bokeh) {\n      \n    },\n    function(Bokeh) {\n      console.log(\"Bokeh: injecting CSS: https://cdn.pydata.org/bokeh/release/bokeh-0.12.10.min.css\");\n      Bokeh.embed.inject_css(\"https://cdn.pydata.org/bokeh/release/bokeh-0.12.10.min.css\");\n      console.log(\"Bokeh: injecting CSS: https://cdn.pydata.org/bokeh/release/bokeh-widgets-0.12.10.min.css\");\n      Bokeh.embed.inject_css(\"https://cdn.pydata.org/bokeh/release/bokeh-widgets-0.12.10.min.css\");\n      console.log(\"Bokeh: injecting CSS: https://cdn.pydata.org/bokeh/release/bokeh-tables-0.12.10.min.css\");\n      Bokeh.embed.inject_css(\"https://cdn.pydata.org/bokeh/release/bokeh-tables-0.12.10.min.css\");\n    }\n  ];\n\n  function run_inline_js() {\n    \n    if ((root.Bokeh !== undefined) || (force === true)) {\n      for (var i = 0; i < inline_js.length; i++) {\n        inline_js[i].call(root, root.Bokeh);\n      }if (force === true) {\n        display_loaded();\n      }} else if (Date.now() < root._bokeh_timeout) {\n      setTimeout(run_inline_js, 100);\n    } else if (!root._bokeh_failed_load) {\n      console.log(\"Bokeh: BokehJS failed to load within specified timeout.\");\n      root._bokeh_failed_load = true;\n    } else if (force !== true) {\n      var cell = $(document.getElementById(\"791c5842-3660-499f-8239-7cec0a72d075\")).parents('.cell').data().cell;\n      cell.output_area.append_execute_result(NB_LOAD_WARNING)\n    }\n\n  }\n\n  if (root._bokeh_is_loading === 0) {\n    console.log(\"Bokeh: BokehJS loaded, going straight to plotting\");\n    run_inline_js();\n  } else {\n    load_libs(js_urls, function() {\n      console.log(\"Bokeh: BokehJS plotting callback run at\", now());\n      run_inline_js();\n    });\n  }\n}(window));", 
                        "application/vnd.bokehjs_load.v0+json": "\n(function(root) {\n  function now() {\n    return new Date();\n  }\n\n  var force = true;\n\n  if (typeof (root._bokeh_onload_callbacks) === \"undefined\" || force === true) {\n    root._bokeh_onload_callbacks = [];\n    root._bokeh_is_loading = undefined;\n  }\n\n  \n\n  \n  if (typeof (root._bokeh_timeout) === \"undefined\" || force === true) {\n    root._bokeh_timeout = Date.now() + 5000;\n    root._bokeh_failed_load = false;\n  }\n\n  var NB_LOAD_WARNING = {'data': {'text/html':\n     \"<div style='background-color: #fdd'>\\n\"+\n     \"<p>\\n\"+\n     \"BokehJS does not appear to have successfully loaded. If loading BokehJS from CDN, this \\n\"+\n     \"may be due to a slow or bad network connection. Possible fixes:\\n\"+\n     \"</p>\\n\"+\n     \"<ul>\\n\"+\n     \"<li>re-rerun `output_notebook()` to attempt to load from CDN again, or</li>\\n\"+\n     \"<li>use INLINE resources instead, as so:</li>\\n\"+\n     \"</ul>\\n\"+\n     \"<code>\\n\"+\n     \"from bokeh.resources import INLINE\\n\"+\n     \"output_notebook(resources=INLINE)\\n\"+\n     \"</code>\\n\"+\n     \"</div>\"}};\n\n  function display_loaded() {\n    var el = document.getElementById(\"791c5842-3660-499f-8239-7cec0a72d075\");\n    if (el != null) {\n      el.textContent = \"BokehJS is loading...\";\n    }\n    if (root.Bokeh !== undefined) {\n      if (el != null) {\n        el.textContent = \"BokehJS \" + root.Bokeh.version + \" successfully loaded.\";\n      }\n    } else if (Date.now() < root._bokeh_timeout) {\n      setTimeout(display_loaded, 100)\n    }\n  }\n\n\n  function run_callbacks() {\n    try {\n      root._bokeh_onload_callbacks.forEach(function(callback) { callback() });\n    }\n    finally {\n      delete root._bokeh_onload_callbacks\n    }\n    console.info(\"Bokeh: all callbacks have finished\");\n  }\n\n  function load_libs(js_urls, callback) {\n    root._bokeh_onload_callbacks.push(callback);\n    if (root._bokeh_is_loading > 0) {\n      console.log(\"Bokeh: BokehJS is being loaded, scheduling callback at\", now());\n      return null;\n    }\n    if (js_urls == null || js_urls.length === 0) {\n      run_callbacks();\n      return null;\n    }\n    console.log(\"Bokeh: BokehJS not loaded, scheduling load and callback at\", now());\n    root._bokeh_is_loading = js_urls.length;\n    for (var i = 0; i < js_urls.length; i++) {\n      var url = js_urls[i];\n      var s = document.createElement('script');\n      s.src = url;\n      s.async = false;\n      s.onreadystatechange = s.onload = function() {\n        root._bokeh_is_loading--;\n        if (root._bokeh_is_loading === 0) {\n          console.log(\"Bokeh: all BokehJS libraries loaded\");\n          run_callbacks()\n        }\n      };\n      s.onerror = function() {\n        console.warn(\"failed to load library \" + url);\n      };\n      console.log(\"Bokeh: injecting script tag for BokehJS library: \", url);\n      document.getElementsByTagName(\"head\")[0].appendChild(s);\n    }\n  };var element = document.getElementById(\"791c5842-3660-499f-8239-7cec0a72d075\");\n  if (element == null) {\n    console.log(\"Bokeh: ERROR: autoload.js configured with elementid '791c5842-3660-499f-8239-7cec0a72d075' but no matching script tag was found. \")\n    return false;\n  }\n\n  var js_urls = [\"https://cdn.pydata.org/bokeh/release/bokeh-0.12.10.min.js\", \"https://cdn.pydata.org/bokeh/release/bokeh-widgets-0.12.10.min.js\", \"https://cdn.pydata.org/bokeh/release/bokeh-tables-0.12.10.min.js\", \"https://cdn.pydata.org/bokeh/release/bokeh-gl-0.12.10.min.js\"];\n\n  var inline_js = [\n    function(Bokeh) {\n      Bokeh.set_log_level(\"info\");\n    },\n    \n    function(Bokeh) {\n      \n    },\n    function(Bokeh) {\n      console.log(\"Bokeh: injecting CSS: https://cdn.pydata.org/bokeh/release/bokeh-0.12.10.min.css\");\n      Bokeh.embed.inject_css(\"https://cdn.pydata.org/bokeh/release/bokeh-0.12.10.min.css\");\n      console.log(\"Bokeh: injecting CSS: https://cdn.pydata.org/bokeh/release/bokeh-widgets-0.12.10.min.css\");\n      Bokeh.embed.inject_css(\"https://cdn.pydata.org/bokeh/release/bokeh-widgets-0.12.10.min.css\");\n      console.log(\"Bokeh: injecting CSS: https://cdn.pydata.org/bokeh/release/bokeh-tables-0.12.10.min.css\");\n      Bokeh.embed.inject_css(\"https://cdn.pydata.org/bokeh/release/bokeh-tables-0.12.10.min.css\");\n    }\n  ];\n\n  function run_inline_js() {\n    \n    if ((root.Bokeh !== undefined) || (force === true)) {\n      for (var i = 0; i < inline_js.length; i++) {\n        inline_js[i].call(root, root.Bokeh);\n      }if (force === true) {\n        display_loaded();\n      }} else if (Date.now() < root._bokeh_timeout) {\n      setTimeout(run_inline_js, 100);\n    } else if (!root._bokeh_failed_load) {\n      console.log(\"Bokeh: BokehJS failed to load within specified timeout.\");\n      root._bokeh_failed_load = true;\n    } else if (force !== true) {\n      var cell = $(document.getElementById(\"791c5842-3660-499f-8239-7cec0a72d075\")).parents('.cell').data().cell;\n      cell.output_area.append_execute_result(NB_LOAD_WARNING)\n    }\n\n  }\n\n  if (root._bokeh_is_loading === 0) {\n    console.log(\"Bokeh: BokehJS loaded, going straight to plotting\");\n    run_inline_js();\n  } else {\n    load_libs(js_urls, function() {\n      console.log(\"Bokeh: BokehJS plotting callback run at\", now());\n      run_inline_js();\n    });\n  }\n}(window));"
                    }, 
                    "metadata": {}
                }
            ], 
            "source": "import pandas as pd\nfrom bokeh.plotting import figure, output_file, show,output_notebook\noutput_notebook()"
        }, 
        {
            "source": "In this section, we define the function <code>make_dashboard</code>. \nYou don't have to know how the function works, you should only care about the inputs. The function will produce a dashboard as well as an html file. You can then use this html file to share your dashboard. If you do not know what an html file is don't worry everything you need to know will be provided in the lab. ", 
            "cell_type": "markdown", 
            "metadata": {}
        }, 
        {
            "execution_count": 2, 
            "cell_type": "code", 
            "metadata": {}, 
            "outputs": [], 
            "source": "def make_dashboard(x, gdp_change, unemployment, title, file_name):\n    output_file(file_name)\n    p = figure(title=title, x_axis_label='year', y_axis_label='%')\n    p.line(x.squeeze(), gdp_change.squeeze(), color=\"firebrick\", line_width=4, legend=\"% GDP change\")\n    p.line(x.squeeze(), unemployment.squeeze(), line_width=4, legend=\"% unemployed\")\n    show(p)"
        }, 
        {
            "source": "The dictionary  <code>links</code> contain the CSV files with all the data. The value for the key <code>GDP</code> is the file that contains the GDP data. The value for the key <code>unemployment</code> contains the unemployment data.", 
            "cell_type": "markdown", 
            "metadata": {}
        }, 
        {
            "execution_count": 3, 
            "cell_type": "code", 
            "metadata": {}, 
            "outputs": [], 
            "source": "links={'GDP':'https://s3-api.us-geo.objectstorage.softlayer.net/cf-courses-data/CognitiveClass/PY0101EN/projects/coursera_project/clean_gdp.csv',\\\n       'unemployment':'https://s3-api.us-geo.objectstorage.softlayer.net/cf-courses-data/CognitiveClass/PY0101EN/projects/coursera_project/clean_unemployment.csv'}"
        }, 
        {
            "source": "<h3 id=\"Section_2\"> Question 1: Create a dataframe that contains the GDP data and display the first five rows of the dataframe.</h3>", 
            "cell_type": "markdown", 
            "metadata": {}
        }, 
        {
            "source": "Use the dictionary <code>links</code> and the function <code>pd.read_csv</code> to create a Pandas dataframes that contains the GDP data.", 
            "cell_type": "markdown", 
            "metadata": {}
        }, 
        {
            "source": "<b>Hint: <code>links[\"GDP\"]</code> contains the path or name of the file.</b>", 
            "cell_type": "markdown", 
            "metadata": {}
        }, 
        {
            "execution_count": 5, 
            "cell_type": "code", 
            "metadata": {}, 
            "outputs": [
                {
                    "execution_count": 5, 
                    "metadata": {}, 
                    "data": {
                        "text/html": "<div>\n<style scoped>\n    .dataframe tbody tr th:only-of-type {\n        vertical-align: middle;\n    }\n\n    .dataframe tbody tr th {\n        vertical-align: top;\n    }\n\n    .dataframe thead th {\n        text-align: right;\n    }\n</style>\n<table border=\"1\" class=\"dataframe\">\n  <thead>\n    <tr style=\"text-align: right;\">\n      <th></th>\n      <th>date</th>\n      <th>level-current</th>\n      <th>level-chained</th>\n      <th>change-current</th>\n      <th>change-chained</th>\n    </tr>\n  </thead>\n  <tbody>\n    <tr>\n      <th>0</th>\n      <td>1948</td>\n      <td>274.8</td>\n      <td>2020.0</td>\n      <td>-0.7</td>\n      <td>-0.6</td>\n    </tr>\n    <tr>\n      <th>1</th>\n      <td>1949</td>\n      <td>272.8</td>\n      <td>2008.9</td>\n      <td>10.0</td>\n      <td>8.7</td>\n    </tr>\n    <tr>\n      <th>2</th>\n      <td>1950</td>\n      <td>300.2</td>\n      <td>2184.0</td>\n      <td>15.7</td>\n      <td>8.0</td>\n    </tr>\n    <tr>\n      <th>3</th>\n      <td>1951</td>\n      <td>347.3</td>\n      <td>2360.0</td>\n      <td>5.9</td>\n      <td>4.1</td>\n    </tr>\n    <tr>\n      <th>4</th>\n      <td>1952</td>\n      <td>367.7</td>\n      <td>2456.1</td>\n      <td>6.0</td>\n      <td>4.7</td>\n    </tr>\n    <tr>\n      <th>5</th>\n      <td>1953</td>\n      <td>389.7</td>\n      <td>2571.4</td>\n      <td>0.3</td>\n      <td>-0.6</td>\n    </tr>\n    <tr>\n      <th>6</th>\n      <td>1954</td>\n      <td>391.1</td>\n      <td>2556.9</td>\n      <td>8.9</td>\n      <td>7.1</td>\n    </tr>\n    <tr>\n      <th>7</th>\n      <td>1955</td>\n      <td>426.2</td>\n      <td>2739.0</td>\n      <td>5.6</td>\n      <td>2.1</td>\n    </tr>\n    <tr>\n      <th>8</th>\n      <td>1956</td>\n      <td>450.1</td>\n      <td>2797.4</td>\n      <td>5.5</td>\n      <td>2.1</td>\n    </tr>\n    <tr>\n      <th>9</th>\n      <td>1957</td>\n      <td>474.9</td>\n      <td>2856.3</td>\n      <td>1.5</td>\n      <td>-0.7</td>\n    </tr>\n    <tr>\n      <th>10</th>\n      <td>1958</td>\n      <td>482.0</td>\n      <td>2835.3</td>\n      <td>8.4</td>\n      <td>6.9</td>\n    </tr>\n    <tr>\n      <th>11</th>\n      <td>1959</td>\n      <td>522.5</td>\n      <td>3031.0</td>\n      <td>4.0</td>\n      <td>2.6</td>\n    </tr>\n    <tr>\n      <th>12</th>\n      <td>1960</td>\n      <td>543.3</td>\n      <td>3108.7</td>\n      <td>3.7</td>\n      <td>2.6</td>\n    </tr>\n    <tr>\n      <th>13</th>\n      <td>1961</td>\n      <td>563.3</td>\n      <td>3188.1</td>\n      <td>7.4</td>\n      <td>6.1</td>\n    </tr>\n    <tr>\n      <th>14</th>\n      <td>1962</td>\n      <td>605.1</td>\n      <td>3383.1</td>\n      <td>5.6</td>\n      <td>4.4</td>\n    </tr>\n    <tr>\n      <th>15</th>\n      <td>1963</td>\n      <td>638.6</td>\n      <td>3530.4</td>\n      <td>7.4</td>\n      <td>5.8</td>\n    </tr>\n    <tr>\n      <th>16</th>\n      <td>1964</td>\n      <td>685.8</td>\n      <td>3734.0</td>\n      <td>8.4</td>\n      <td>6.5</td>\n    </tr>\n    <tr>\n      <th>17</th>\n      <td>1965</td>\n      <td>743.7</td>\n      <td>3976.7</td>\n      <td>9.6</td>\n      <td>6.6</td>\n    </tr>\n    <tr>\n      <th>18</th>\n      <td>1966</td>\n      <td>815.0</td>\n      <td>4238.9</td>\n      <td>5.7</td>\n      <td>2.7</td>\n    </tr>\n    <tr>\n      <th>19</th>\n      <td>1967</td>\n      <td>861.7</td>\n      <td>4355.2</td>\n      <td>9.4</td>\n      <td>4.9</td>\n    </tr>\n    <tr>\n      <th>20</th>\n      <td>1968</td>\n      <td>942.5</td>\n      <td>4569.0</td>\n      <td>8.2</td>\n      <td>3.1</td>\n    </tr>\n    <tr>\n      <th>21</th>\n      <td>1969</td>\n      <td>1019.9</td>\n      <td>4712.5</td>\n      <td>5.5</td>\n      <td>0.2</td>\n    </tr>\n    <tr>\n      <th>22</th>\n      <td>1970</td>\n      <td>1075.9</td>\n      <td>4722.0</td>\n      <td>8.5</td>\n      <td>3.3</td>\n    </tr>\n    <tr>\n      <th>23</th>\n      <td>1971</td>\n      <td>1167.8</td>\n      <td>4877.6</td>\n      <td>9.8</td>\n      <td>5.3</td>\n    </tr>\n    <tr>\n      <th>24</th>\n      <td>1972</td>\n      <td>1282.4</td>\n      <td>5134.3</td>\n      <td>11.4</td>\n      <td>5.6</td>\n    </tr>\n    <tr>\n      <th>25</th>\n      <td>1973</td>\n      <td>1428.5</td>\n      <td>5424.1</td>\n      <td>8.4</td>\n      <td>-0.5</td>\n    </tr>\n    <tr>\n      <th>26</th>\n      <td>1974</td>\n      <td>1548.8</td>\n      <td>5396.0</td>\n      <td>9.0</td>\n      <td>-0.2</td>\n    </tr>\n    <tr>\n      <th>27</th>\n      <td>1975</td>\n      <td>1688.9</td>\n      <td>5385.4</td>\n      <td>11.2</td>\n      <td>5.4</td>\n    </tr>\n    <tr>\n      <th>28</th>\n      <td>1976</td>\n      <td>1877.6</td>\n      <td>5675.4</td>\n      <td>11.1</td>\n      <td>4.6</td>\n    </tr>\n    <tr>\n      <th>29</th>\n      <td>1977</td>\n      <td>2086.0</td>\n      <td>5937.0</td>\n      <td>13.0</td>\n      <td>5.5</td>\n    </tr>\n    <tr>\n      <th>...</th>\n      <td>...</td>\n      <td>...</td>\n      <td>...</td>\n      <td>...</td>\n      <td>...</td>\n    </tr>\n    <tr>\n      <th>39</th>\n      <td>1987</td>\n      <td>4870.2</td>\n      <td>8132.6</td>\n      <td>7.9</td>\n      <td>4.2</td>\n    </tr>\n    <tr>\n      <th>40</th>\n      <td>1988</td>\n      <td>5252.6</td>\n      <td>8474.5</td>\n      <td>7.7</td>\n      <td>3.7</td>\n    </tr>\n    <tr>\n      <th>41</th>\n      <td>1989</td>\n      <td>5657.7</td>\n      <td>8786.4</td>\n      <td>5.7</td>\n      <td>1.9</td>\n    </tr>\n    <tr>\n      <th>42</th>\n      <td>1990</td>\n      <td>5979.6</td>\n      <td>8955.0</td>\n      <td>3.3</td>\n      <td>-0.1</td>\n    </tr>\n    <tr>\n      <th>43</th>\n      <td>1991</td>\n      <td>6174.0</td>\n      <td>8948.4</td>\n      <td>5.9</td>\n      <td>3.5</td>\n    </tr>\n    <tr>\n      <th>44</th>\n      <td>1992</td>\n      <td>6539.3</td>\n      <td>9266.6</td>\n      <td>5.2</td>\n      <td>2.8</td>\n    </tr>\n    <tr>\n      <th>45</th>\n      <td>1993</td>\n      <td>6878.7</td>\n      <td>9521.0</td>\n      <td>6.3</td>\n      <td>4.0</td>\n    </tr>\n    <tr>\n      <th>46</th>\n      <td>1994</td>\n      <td>7308.8</td>\n      <td>9905.4</td>\n      <td>4.8</td>\n      <td>2.7</td>\n    </tr>\n    <tr>\n      <th>47</th>\n      <td>1995</td>\n      <td>7664.1</td>\n      <td>10174.8</td>\n      <td>5.7</td>\n      <td>3.8</td>\n    </tr>\n    <tr>\n      <th>48</th>\n      <td>1996</td>\n      <td>8100.2</td>\n      <td>10561.0</td>\n      <td>6.2</td>\n      <td>4.4</td>\n    </tr>\n    <tr>\n      <th>49</th>\n      <td>1997</td>\n      <td>8608.5</td>\n      <td>11034.9</td>\n      <td>5.7</td>\n      <td>4.5</td>\n    </tr>\n    <tr>\n      <th>50</th>\n      <td>1998</td>\n      <td>9089.2</td>\n      <td>11525.9</td>\n      <td>6.3</td>\n      <td>4.8</td>\n    </tr>\n    <tr>\n      <th>51</th>\n      <td>1999</td>\n      <td>9660.6</td>\n      <td>12065.9</td>\n      <td>6.5</td>\n      <td>4.1</td>\n    </tr>\n    <tr>\n      <th>52</th>\n      <td>2000</td>\n      <td>10284.8</td>\n      <td>12559.7</td>\n      <td>3.2</td>\n      <td>1.0</td>\n    </tr>\n    <tr>\n      <th>53</th>\n      <td>2001</td>\n      <td>10621.8</td>\n      <td>12682.2</td>\n      <td>3.4</td>\n      <td>1.7</td>\n    </tr>\n    <tr>\n      <th>54</th>\n      <td>2002</td>\n      <td>10977.5</td>\n      <td>12908.8</td>\n      <td>4.8</td>\n      <td>2.9</td>\n    </tr>\n    <tr>\n      <th>55</th>\n      <td>2003</td>\n      <td>11510.7</td>\n      <td>13271.1</td>\n      <td>6.6</td>\n      <td>3.8</td>\n    </tr>\n    <tr>\n      <th>56</th>\n      <td>2004</td>\n      <td>12274.9</td>\n      <td>13773.5</td>\n      <td>6.7</td>\n      <td>3.5</td>\n    </tr>\n    <tr>\n      <th>57</th>\n      <td>2005</td>\n      <td>13093.7</td>\n      <td>14234.2</td>\n      <td>6.0</td>\n      <td>2.9</td>\n    </tr>\n    <tr>\n      <th>58</th>\n      <td>2006</td>\n      <td>13855.9</td>\n      <td>14613.8</td>\n      <td>4.6</td>\n      <td>1.9</td>\n    </tr>\n    <tr>\n      <th>59</th>\n      <td>2007</td>\n      <td>14477.6</td>\n      <td>14873.7</td>\n      <td>1.8</td>\n      <td>-0.1</td>\n    </tr>\n    <tr>\n      <th>60</th>\n      <td>2008</td>\n      <td>14718.6</td>\n      <td>14830.4</td>\n      <td>-1.8</td>\n      <td>-2.5</td>\n    </tr>\n    <tr>\n      <th>61</th>\n      <td>2009</td>\n      <td>14418.7</td>\n      <td>14418.7</td>\n      <td>3.8</td>\n      <td>2.6</td>\n    </tr>\n    <tr>\n      <th>62</th>\n      <td>2010</td>\n      <td>14964.4</td>\n      <td>14783.8</td>\n      <td>3.7</td>\n      <td>1.6</td>\n    </tr>\n    <tr>\n      <th>63</th>\n      <td>2011</td>\n      <td>15517.9</td>\n      <td>15020.6</td>\n      <td>4.2</td>\n      <td>2.2</td>\n    </tr>\n    <tr>\n      <th>64</th>\n      <td>2012</td>\n      <td>16155.3</td>\n      <td>15354.6</td>\n      <td>3.6</td>\n      <td>1.8</td>\n    </tr>\n    <tr>\n      <th>65</th>\n      <td>2013</td>\n      <td>16691.5</td>\n      <td>15612.2</td>\n      <td>4.4</td>\n      <td>2.5</td>\n    </tr>\n    <tr>\n      <th>66</th>\n      <td>2014</td>\n      <td>17427.6</td>\n      <td>16013.3</td>\n      <td>4.0</td>\n      <td>2.9</td>\n    </tr>\n    <tr>\n      <th>67</th>\n      <td>2015</td>\n      <td>18120.7</td>\n      <td>16471.5</td>\n      <td>2.7</td>\n      <td>1.6</td>\n    </tr>\n    <tr>\n      <th>68</th>\n      <td>2016</td>\n      <td>18624.5</td>\n      <td>16716.2</td>\n      <td>4.2</td>\n      <td>2.2</td>\n    </tr>\n  </tbody>\n</table>\n<p>69 rows \u00d7 5 columns</p>\n</div>", 
                        "text/plain": "    date  level-current  level-chained  change-current  change-chained\n0   1948          274.8         2020.0            -0.7            -0.6\n1   1949          272.8         2008.9            10.0             8.7\n2   1950          300.2         2184.0            15.7             8.0\n3   1951          347.3         2360.0             5.9             4.1\n4   1952          367.7         2456.1             6.0             4.7\n5   1953          389.7         2571.4             0.3            -0.6\n6   1954          391.1         2556.9             8.9             7.1\n7   1955          426.2         2739.0             5.6             2.1\n8   1956          450.1         2797.4             5.5             2.1\n9   1957          474.9         2856.3             1.5            -0.7\n10  1958          482.0         2835.3             8.4             6.9\n11  1959          522.5         3031.0             4.0             2.6\n12  1960          543.3         3108.7             3.7             2.6\n13  1961          563.3         3188.1             7.4             6.1\n14  1962          605.1         3383.1             5.6             4.4\n15  1963          638.6         3530.4             7.4             5.8\n16  1964          685.8         3734.0             8.4             6.5\n17  1965          743.7         3976.7             9.6             6.6\n18  1966          815.0         4238.9             5.7             2.7\n19  1967          861.7         4355.2             9.4             4.9\n20  1968          942.5         4569.0             8.2             3.1\n21  1969         1019.9         4712.5             5.5             0.2\n22  1970         1075.9         4722.0             8.5             3.3\n23  1971         1167.8         4877.6             9.8             5.3\n24  1972         1282.4         5134.3            11.4             5.6\n25  1973         1428.5         5424.1             8.4            -0.5\n26  1974         1548.8         5396.0             9.0            -0.2\n27  1975         1688.9         5385.4            11.2             5.4\n28  1976         1877.6         5675.4            11.1             4.6\n29  1977         2086.0         5937.0            13.0             5.5\n..   ...            ...            ...             ...             ...\n39  1987         4870.2         8132.6             7.9             4.2\n40  1988         5252.6         8474.5             7.7             3.7\n41  1989         5657.7         8786.4             5.7             1.9\n42  1990         5979.6         8955.0             3.3            -0.1\n43  1991         6174.0         8948.4             5.9             3.5\n44  1992         6539.3         9266.6             5.2             2.8\n45  1993         6878.7         9521.0             6.3             4.0\n46  1994         7308.8         9905.4             4.8             2.7\n47  1995         7664.1        10174.8             5.7             3.8\n48  1996         8100.2        10561.0             6.2             4.4\n49  1997         8608.5        11034.9             5.7             4.5\n50  1998         9089.2        11525.9             6.3             4.8\n51  1999         9660.6        12065.9             6.5             4.1\n52  2000        10284.8        12559.7             3.2             1.0\n53  2001        10621.8        12682.2             3.4             1.7\n54  2002        10977.5        12908.8             4.8             2.9\n55  2003        11510.7        13271.1             6.6             3.8\n56  2004        12274.9        13773.5             6.7             3.5\n57  2005        13093.7        14234.2             6.0             2.9\n58  2006        13855.9        14613.8             4.6             1.9\n59  2007        14477.6        14873.7             1.8            -0.1\n60  2008        14718.6        14830.4            -1.8            -2.5\n61  2009        14418.7        14418.7             3.8             2.6\n62  2010        14964.4        14783.8             3.7             1.6\n63  2011        15517.9        15020.6             4.2             2.2\n64  2012        16155.3        15354.6             3.6             1.8\n65  2013        16691.5        15612.2             4.4             2.5\n66  2014        17427.6        16013.3             4.0             2.9\n67  2015        18120.7        16471.5             2.7             1.6\n68  2016        18624.5        16716.2             4.2             2.2\n\n[69 rows x 5 columns]"
                    }, 
                    "output_type": "execute_result"
                }
            ], 
            "source": "# Type your code here\ndf_gdp=pd.read_csv(links['GDP'])\ndf_gdp #to display the dataframe"
        }, 
        {
            "source": "Use the method <code>head()</code> to display the first five rows of the GDP data, then take a screen-shot.", 
            "cell_type": "markdown", 
            "metadata": {}
        }, 
        {
            "execution_count": 6, 
            "cell_type": "code", 
            "metadata": {}, 
            "outputs": [
                {
                    "execution_count": 6, 
                    "metadata": {}, 
                    "data": {
                        "text/html": "<div>\n<style scoped>\n    .dataframe tbody tr th:only-of-type {\n        vertical-align: middle;\n    }\n\n    .dataframe tbody tr th {\n        vertical-align: top;\n    }\n\n    .dataframe thead th {\n        text-align: right;\n    }\n</style>\n<table border=\"1\" class=\"dataframe\">\n  <thead>\n    <tr style=\"text-align: right;\">\n      <th></th>\n      <th>date</th>\n      <th>level-current</th>\n      <th>level-chained</th>\n      <th>change-current</th>\n      <th>change-chained</th>\n    </tr>\n  </thead>\n  <tbody>\n    <tr>\n      <th>0</th>\n      <td>1948</td>\n      <td>274.8</td>\n      <td>2020.0</td>\n      <td>-0.7</td>\n      <td>-0.6</td>\n    </tr>\n    <tr>\n      <th>1</th>\n      <td>1949</td>\n      <td>272.8</td>\n      <td>2008.9</td>\n      <td>10.0</td>\n      <td>8.7</td>\n    </tr>\n    <tr>\n      <th>2</th>\n      <td>1950</td>\n      <td>300.2</td>\n      <td>2184.0</td>\n      <td>15.7</td>\n      <td>8.0</td>\n    </tr>\n    <tr>\n      <th>3</th>\n      <td>1951</td>\n      <td>347.3</td>\n      <td>2360.0</td>\n      <td>5.9</td>\n      <td>4.1</td>\n    </tr>\n    <tr>\n      <th>4</th>\n      <td>1952</td>\n      <td>367.7</td>\n      <td>2456.1</td>\n      <td>6.0</td>\n      <td>4.7</td>\n    </tr>\n  </tbody>\n</table>\n</div>", 
                        "text/plain": "   date  level-current  level-chained  change-current  change-chained\n0  1948          274.8         2020.0            -0.7            -0.6\n1  1949          272.8         2008.9            10.0             8.7\n2  1950          300.2         2184.0            15.7             8.0\n3  1951          347.3         2360.0             5.9             4.1\n4  1952          367.7         2456.1             6.0             4.7"
                    }, 
                    "output_type": "execute_result"
                }
            ], 
            "source": "# Type your code here\ndf_gdp.head()"
        }, 
        {
            "source": "<h3 id=\"Section_2\"> Question 2: Create a dataframe that contains the unemployment data. Display the first five rows of the dataframe. </h3>", 
            "cell_type": "markdown", 
            "metadata": {}
        }, 
        {
            "source": "Use the dictionary <code>links</code> and the function <code>pd.read_csv</code> to create a Pandas dataframes that contains the unemployment data.", 
            "cell_type": "markdown", 
            "metadata": {}
        }, 
        {
            "execution_count": 8, 
            "cell_type": "code", 
            "metadata": {}, 
            "outputs": [
                {
                    "execution_count": 8, 
                    "metadata": {}, 
                    "data": {
                        "text/html": "<div>\n<style scoped>\n    .dataframe tbody tr th:only-of-type {\n        vertical-align: middle;\n    }\n\n    .dataframe tbody tr th {\n        vertical-align: top;\n    }\n\n    .dataframe thead th {\n        text-align: right;\n    }\n</style>\n<table border=\"1\" class=\"dataframe\">\n  <thead>\n    <tr style=\"text-align: right;\">\n      <th></th>\n      <th>date</th>\n      <th>unemployment</th>\n    </tr>\n  </thead>\n  <tbody>\n    <tr>\n      <th>0</th>\n      <td>1948</td>\n      <td>3.750000</td>\n    </tr>\n    <tr>\n      <th>1</th>\n      <td>1949</td>\n      <td>6.050000</td>\n    </tr>\n    <tr>\n      <th>2</th>\n      <td>1950</td>\n      <td>5.208333</td>\n    </tr>\n    <tr>\n      <th>3</th>\n      <td>1951</td>\n      <td>3.283333</td>\n    </tr>\n    <tr>\n      <th>4</th>\n      <td>1952</td>\n      <td>3.025000</td>\n    </tr>\n    <tr>\n      <th>5</th>\n      <td>1953</td>\n      <td>2.925000</td>\n    </tr>\n    <tr>\n      <th>6</th>\n      <td>1954</td>\n      <td>5.591667</td>\n    </tr>\n    <tr>\n      <th>7</th>\n      <td>1955</td>\n      <td>4.366667</td>\n    </tr>\n    <tr>\n      <th>8</th>\n      <td>1956</td>\n      <td>4.125000</td>\n    </tr>\n    <tr>\n      <th>9</th>\n      <td>1957</td>\n      <td>4.300000</td>\n    </tr>\n    <tr>\n      <th>10</th>\n      <td>1958</td>\n      <td>6.841667</td>\n    </tr>\n    <tr>\n      <th>11</th>\n      <td>1959</td>\n      <td>5.450000</td>\n    </tr>\n    <tr>\n      <th>12</th>\n      <td>1960</td>\n      <td>5.541667</td>\n    </tr>\n    <tr>\n      <th>13</th>\n      <td>1961</td>\n      <td>6.691667</td>\n    </tr>\n    <tr>\n      <th>14</th>\n      <td>1962</td>\n      <td>5.566667</td>\n    </tr>\n    <tr>\n      <th>15</th>\n      <td>1963</td>\n      <td>5.641667</td>\n    </tr>\n    <tr>\n      <th>16</th>\n      <td>1964</td>\n      <td>5.158333</td>\n    </tr>\n    <tr>\n      <th>17</th>\n      <td>1965</td>\n      <td>4.508333</td>\n    </tr>\n    <tr>\n      <th>18</th>\n      <td>1966</td>\n      <td>3.791667</td>\n    </tr>\n    <tr>\n      <th>19</th>\n      <td>1967</td>\n      <td>3.841667</td>\n    </tr>\n    <tr>\n      <th>20</th>\n      <td>1968</td>\n      <td>3.558333</td>\n    </tr>\n    <tr>\n      <th>21</th>\n      <td>1969</td>\n      <td>3.491667</td>\n    </tr>\n    <tr>\n      <th>22</th>\n      <td>1970</td>\n      <td>4.983333</td>\n    </tr>\n    <tr>\n      <th>23</th>\n      <td>1971</td>\n      <td>5.950000</td>\n    </tr>\n    <tr>\n      <th>24</th>\n      <td>1972</td>\n      <td>5.600000</td>\n    </tr>\n    <tr>\n      <th>25</th>\n      <td>1973</td>\n      <td>4.858333</td>\n    </tr>\n    <tr>\n      <th>26</th>\n      <td>1974</td>\n      <td>5.641667</td>\n    </tr>\n    <tr>\n      <th>27</th>\n      <td>1975</td>\n      <td>8.475000</td>\n    </tr>\n    <tr>\n      <th>28</th>\n      <td>1976</td>\n      <td>7.700000</td>\n    </tr>\n    <tr>\n      <th>29</th>\n      <td>1977</td>\n      <td>7.050000</td>\n    </tr>\n    <tr>\n      <th>...</th>\n      <td>...</td>\n      <td>...</td>\n    </tr>\n    <tr>\n      <th>39</th>\n      <td>1987</td>\n      <td>6.175000</td>\n    </tr>\n    <tr>\n      <th>40</th>\n      <td>1988</td>\n      <td>5.491667</td>\n    </tr>\n    <tr>\n      <th>41</th>\n      <td>1989</td>\n      <td>5.258333</td>\n    </tr>\n    <tr>\n      <th>42</th>\n      <td>1990</td>\n      <td>5.616667</td>\n    </tr>\n    <tr>\n      <th>43</th>\n      <td>1991</td>\n      <td>6.850000</td>\n    </tr>\n    <tr>\n      <th>44</th>\n      <td>1992</td>\n      <td>7.491667</td>\n    </tr>\n    <tr>\n      <th>45</th>\n      <td>1993</td>\n      <td>6.908333</td>\n    </tr>\n    <tr>\n      <th>46</th>\n      <td>1994</td>\n      <td>6.100000</td>\n    </tr>\n    <tr>\n      <th>47</th>\n      <td>1995</td>\n      <td>5.591667</td>\n    </tr>\n    <tr>\n      <th>48</th>\n      <td>1996</td>\n      <td>5.408333</td>\n    </tr>\n    <tr>\n      <th>49</th>\n      <td>1997</td>\n      <td>4.941667</td>\n    </tr>\n    <tr>\n      <th>50</th>\n      <td>1998</td>\n      <td>4.500000</td>\n    </tr>\n    <tr>\n      <th>51</th>\n      <td>1999</td>\n      <td>4.216667</td>\n    </tr>\n    <tr>\n      <th>52</th>\n      <td>2000</td>\n      <td>3.966667</td>\n    </tr>\n    <tr>\n      <th>53</th>\n      <td>2001</td>\n      <td>4.741667</td>\n    </tr>\n    <tr>\n      <th>54</th>\n      <td>2002</td>\n      <td>5.783333</td>\n    </tr>\n    <tr>\n      <th>55</th>\n      <td>2003</td>\n      <td>5.991667</td>\n    </tr>\n    <tr>\n      <th>56</th>\n      <td>2004</td>\n      <td>5.541667</td>\n    </tr>\n    <tr>\n      <th>57</th>\n      <td>2005</td>\n      <td>5.083333</td>\n    </tr>\n    <tr>\n      <th>58</th>\n      <td>2006</td>\n      <td>4.608333</td>\n    </tr>\n    <tr>\n      <th>59</th>\n      <td>2007</td>\n      <td>4.616667</td>\n    </tr>\n    <tr>\n      <th>60</th>\n      <td>2008</td>\n      <td>5.800000</td>\n    </tr>\n    <tr>\n      <th>61</th>\n      <td>2009</td>\n      <td>9.283333</td>\n    </tr>\n    <tr>\n      <th>62</th>\n      <td>2010</td>\n      <td>9.608333</td>\n    </tr>\n    <tr>\n      <th>63</th>\n      <td>2011</td>\n      <td>8.933333</td>\n    </tr>\n    <tr>\n      <th>64</th>\n      <td>2012</td>\n      <td>8.075000</td>\n    </tr>\n    <tr>\n      <th>65</th>\n      <td>2013</td>\n      <td>7.358333</td>\n    </tr>\n    <tr>\n      <th>66</th>\n      <td>2014</td>\n      <td>6.158333</td>\n    </tr>\n    <tr>\n      <th>67</th>\n      <td>2015</td>\n      <td>5.275000</td>\n    </tr>\n    <tr>\n      <th>68</th>\n      <td>2016</td>\n      <td>4.875000</td>\n    </tr>\n  </tbody>\n</table>\n<p>69 rows \u00d7 2 columns</p>\n</div>", 
                        "text/plain": "    date  unemployment\n0   1948      3.750000\n1   1949      6.050000\n2   1950      5.208333\n3   1951      3.283333\n4   1952      3.025000\n5   1953      2.925000\n6   1954      5.591667\n7   1955      4.366667\n8   1956      4.125000\n9   1957      4.300000\n10  1958      6.841667\n11  1959      5.450000\n12  1960      5.541667\n13  1961      6.691667\n14  1962      5.566667\n15  1963      5.641667\n16  1964      5.158333\n17  1965      4.508333\n18  1966      3.791667\n19  1967      3.841667\n20  1968      3.558333\n21  1969      3.491667\n22  1970      4.983333\n23  1971      5.950000\n24  1972      5.600000\n25  1973      4.858333\n26  1974      5.641667\n27  1975      8.475000\n28  1976      7.700000\n29  1977      7.050000\n..   ...           ...\n39  1987      6.175000\n40  1988      5.491667\n41  1989      5.258333\n42  1990      5.616667\n43  1991      6.850000\n44  1992      7.491667\n45  1993      6.908333\n46  1994      6.100000\n47  1995      5.591667\n48  1996      5.408333\n49  1997      4.941667\n50  1998      4.500000\n51  1999      4.216667\n52  2000      3.966667\n53  2001      4.741667\n54  2002      5.783333\n55  2003      5.991667\n56  2004      5.541667\n57  2005      5.083333\n58  2006      4.608333\n59  2007      4.616667\n60  2008      5.800000\n61  2009      9.283333\n62  2010      9.608333\n63  2011      8.933333\n64  2012      8.075000\n65  2013      7.358333\n66  2014      6.158333\n67  2015      5.275000\n68  2016      4.875000\n\n[69 rows x 2 columns]"
                    }, 
                    "output_type": "execute_result"
                }
            ], 
            "source": "# Type your code here\ndf_unemploy=pd.read_csv(links['unemployment'])\ndf_unemploy"
        }, 
        {
            "source": "Use the method <code>head()</code> to display the first five rows of the GDP data, then take a screen-shot.", 
            "cell_type": "markdown", 
            "metadata": {}
        }, 
        {
            "execution_count": 9, 
            "cell_type": "code", 
            "metadata": {}, 
            "outputs": [
                {
                    "execution_count": 9, 
                    "metadata": {}, 
                    "data": {
                        "text/html": "<div>\n<style scoped>\n    .dataframe tbody tr th:only-of-type {\n        vertical-align: middle;\n    }\n\n    .dataframe tbody tr th {\n        vertical-align: top;\n    }\n\n    .dataframe thead th {\n        text-align: right;\n    }\n</style>\n<table border=\"1\" class=\"dataframe\">\n  <thead>\n    <tr style=\"text-align: right;\">\n      <th></th>\n      <th>date</th>\n      <th>unemployment</th>\n    </tr>\n  </thead>\n  <tbody>\n    <tr>\n      <th>0</th>\n      <td>1948</td>\n      <td>3.750000</td>\n    </tr>\n    <tr>\n      <th>1</th>\n      <td>1949</td>\n      <td>6.050000</td>\n    </tr>\n    <tr>\n      <th>2</th>\n      <td>1950</td>\n      <td>5.208333</td>\n    </tr>\n    <tr>\n      <th>3</th>\n      <td>1951</td>\n      <td>3.283333</td>\n    </tr>\n    <tr>\n      <th>4</th>\n      <td>1952</td>\n      <td>3.025000</td>\n    </tr>\n  </tbody>\n</table>\n</div>", 
                        "text/plain": "   date  unemployment\n0  1948      3.750000\n1  1949      6.050000\n2  1950      5.208333\n3  1951      3.283333\n4  1952      3.025000"
                    }, 
                    "output_type": "execute_result"
                }
            ], 
            "source": "# Type your code here\ndf_unemploy.head()"
        }, 
        {
            "source": "<h3 id=\"Section_3\">Question 3: Display a dataframe where unemployment was greater than 8.5%. Take a screen-shot.</h3>", 
            "cell_type": "markdown", 
            "metadata": {}
        }, 
        {
            "execution_count": 20, 
            "cell_type": "code", 
            "metadata": {}, 
            "outputs": [
                {
                    "execution_count": 20, 
                    "metadata": {}, 
                    "data": {
                        "text/html": "<div>\n<style scoped>\n    .dataframe tbody tr th:only-of-type {\n        vertical-align: middle;\n    }\n\n    .dataframe tbody tr th {\n        vertical-align: top;\n    }\n\n    .dataframe thead th {\n        text-align: right;\n    }\n</style>\n<table border=\"1\" class=\"dataframe\">\n  <thead>\n    <tr style=\"text-align: right;\">\n      <th></th>\n      <th>date</th>\n      <th>unemployment</th>\n    </tr>\n  </thead>\n  <tbody>\n    <tr>\n      <th>34</th>\n      <td>1982</td>\n      <td>9.708333</td>\n    </tr>\n    <tr>\n      <th>35</th>\n      <td>1983</td>\n      <td>9.600000</td>\n    </tr>\n    <tr>\n      <th>61</th>\n      <td>2009</td>\n      <td>9.283333</td>\n    </tr>\n    <tr>\n      <th>62</th>\n      <td>2010</td>\n      <td>9.608333</td>\n    </tr>\n    <tr>\n      <th>63</th>\n      <td>2011</td>\n      <td>8.933333</td>\n    </tr>\n  </tbody>\n</table>\n</div>", 
                        "text/plain": "    date  unemployment\n34  1982      9.708333\n35  1983      9.600000\n61  2009      9.283333\n62  2010      9.608333\n63  2011      8.933333"
                    }, 
                    "output_type": "execute_result"
                }
            ], 
            "source": "# Type your code here\nrows= df_unemploy['unemployment']>8.5 #select those rows where unemployment is >8.5%\ndf_q3=df_unemploy.ix[rows,'date':'unemployment'] #access the unemployment % for the rows specified in the previous line\ndf_q3 #display the dataframe"
        }, 
        {
            "source": "<h3 id=\"Section_4\">Question 4: Use the function make_dashboard to make a dashboard</h3>", 
            "cell_type": "markdown", 
            "metadata": {}
        }, 
        {
            "source": "In this section, you will call the function  <code>make_dashboard</code> , to produce a dashboard. We will use the convention of giving each variable the same name as the function parameter.", 
            "cell_type": "markdown", 
            "metadata": {}
        }, 
        {
            "source": "Create a new dataframe with the column <code>'date'</code> called <code>x</code> from the dataframe that contains the GDP data.", 
            "cell_type": "markdown", 
            "metadata": {}
        }, 
        {
            "execution_count": 23, 
            "cell_type": "code", 
            "metadata": {}, 
            "outputs": [], 
            "source": "# Create your dataframe with column date\nx = df_gdp['date']"
        }, 
        {
            "source": "Create a new dataframe with the column <code>'change-current' </code> called <code>gdp_change</code>  from the dataframe that contains the GDP data.", 
            "cell_type": "markdown", 
            "metadata": {}
        }, 
        {
            "execution_count": 25, 
            "cell_type": "code", 
            "metadata": {}, 
            "outputs": [], 
            "source": "# Create your dataframe with column change-current\ngdp_change = df_gdp['change-current']\n#gdp_change"
        }, 
        {
            "source": "Create a new dataframe with the column <code>'unemployment' </code> called <code>unemployment</code>  from the dataframe that contains the  unemployment data.", 
            "cell_type": "markdown", 
            "metadata": {}
        }, 
        {
            "execution_count": 27, 
            "cell_type": "code", 
            "metadata": {}, 
            "outputs": [], 
            "source": "# Create your dataframe with column unemployment\nunemployment = df_unemploy['unemployment']\n#unemployment"
        }, 
        {
            "source": "Give your dashboard a string title, and assign it to the variable <code>title</code>", 
            "cell_type": "markdown", 
            "metadata": {}
        }, 
        {
            "execution_count": 28, 
            "cell_type": "code", 
            "metadata": {}, 
            "outputs": [], 
            "source": " # Give your dashboard a string title\ntitle = \" GDP and Unemployment Data in the US\""
        }, 
        {
            "source": "Finally, the function <code>make_dashboard</code> will output an <code>.html</code> in your direictory, just like a <code>csv</code> file. The name of the file is <code>\"index.html\"</code> and it will be stored in the varable  <code>file_name</code>.", 
            "cell_type": "markdown", 
            "metadata": {}
        }, 
        {
            "execution_count": 29, 
            "cell_type": "code", 
            "metadata": {}, 
            "outputs": [], 
            "source": "file_name = \"index.html\""
        }, 
        {
            "source": "Call the function <code>make_dashboard</code> , to produce a dashboard.  Assign the parameter values accordingly take a the <b>, take a screen shot of the dashboard and submit it</b>.", 
            "cell_type": "markdown", 
            "metadata": {}
        }, 
        {
            "execution_count": 30, 
            "cell_type": "code", 
            "metadata": {}, 
            "outputs": [
                {
                    "output_type": "display_data", 
                    "data": {
                        "text/html": "\n<div class=\"bk-root\">\n    <div class=\"bk-plotdiv\" id=\"57149d55-a48a-419e-b1c2-83bae50eb9a5\"></div>\n</div>"
                    }, 
                    "metadata": {}
                }, 
                {
                    "output_type": "display_data", 
                    "data": {
                        "application/javascript": "(function(root) {\n  function embed_document(root) {\n    var docs_json = {\"f8abb5d5-2401-4d40-b444-1c9579d6f8f7\":{\"roots\":{\"references\":[{\"attributes\":{},\"id\":\"612954e2-c3e4-4aae-9f87-3c3e94645317\",\"type\":\"SaveTool\"},{\"attributes\":{\"line_color\":{\"value\":\"firebrick\"},\"line_width\":{\"value\":4},\"x\":{\"field\":\"x\"},\"y\":{\"field\":\"y\"}},\"id\":\"2f7deb1b-52e6-4ff8-8750-071fa1ee07bc\",\"type\":\"Line\"},{\"attributes\":{\"active_drag\":\"auto\",\"active_inspect\":\"auto\",\"active_scroll\":\"auto\",\"active_tap\":\"auto\",\"tools\":[{\"id\":\"026e81ff-4c39-4e89-86c0-c27d8cc2a74c\",\"type\":\"PanTool\"},{\"id\":\"7fe5ef9d-5f72-4322-99b8-33e9cd8a899a\",\"type\":\"WheelZoomTool\"},{\"id\":\"faf98581-b7bc-45bc-af2d-240251477cb8\",\"type\":\"BoxZoomTool\"},{\"id\":\"612954e2-c3e4-4aae-9f87-3c3e94645317\",\"type\":\"SaveTool\"},{\"id\":\"c9c28e17-6d24-48c8-b966-b3cb472dad10\",\"type\":\"ResetTool\"},{\"id\":\"2e0d5d83-f002-4ce0-a1dd-46b57105a152\",\"type\":\"HelpTool\"}]},\"id\":\"78e3f6f0-1acb-4ee9-9b4f-2952bf3de9e0\",\"type\":\"Toolbar\"},{\"attributes\":{\"label\":{\"value\":\"% unemployed\"},\"renderers\":[{\"id\":\"4a97003c-9deb-43f6-b832-1cb9d16e28d7\",\"type\":\"GlyphRenderer\"}]},\"id\":\"ae1f6bee-a348-4181-be2c-9bd1d4710582\",\"type\":\"LegendItem\"},{\"attributes\":{\"callback\":null,\"column_names\":[\"x\",\"y\"],\"data\":{\"x\":[1948,1949,1950,1951,1952,1953,1954,1955,1956,1957,1958,1959,1960,1961,1962,1963,1964,1965,1966,1967,1968,1969,1970,1971,1972,1973,1974,1975,1976,1977,1978,1979,1980,1981,1982,1983,1984,1985,1986,1987,1988,1989,1990,1991,1992,1993,1994,1995,1996,1997,1998,1999,2000,2001,2002,2003,2004,2005,2006,2007,2008,2009,2010,2011,2012,2013,2014,2015,2016],\"y\":{\"__ndarray__\":\"AAAAAAAADkAzMzMzMzMYQFVVVVVV1RRARURERERECkA0MzMzMzMIQGdmZmZmZgdA3d3d3d1dFkB4d3d3d3cRQAAAAAAAgBBAMzMzMzMzEUDd3d3d3V0bQM3MzMzMzBVArKqqqqoqFkBERERERMQaQEVERERERBZAEhERERGRFkAiIiIiIqIUQImIiIiICBJAVVVVVVVVDkC5u7u7u7sOQHd3d3d3dwxA7+7u7u7uC0Dv7u7u7u4TQM3MzMzMzBdAZ2ZmZmZmFkDu7u7u7m4TQBIRERERkRZAMzMzMzPzIEDLzMzMzMweQDUzMzMzMxxAREREREREGEBnZmZmZmYXQDUzMzMzsxxAeHd3d3d3HkCqqqqqqmojQDMzMzMzMyNAiYiIiIgIHkBERERERMQcQAAAAAAAABxANTMzMzOzGEB3d3d3d/cVQIiIiIiICBVAd3d3d3d3FkBlZmZmZmYbQHh3d3d39x1AISIiIiKiG0BnZmZmZmYYQN/d3d3dXRZAIyIiIiKiFUBERERERMQTQAAAAAAAABJA393d3d3dEEC5u7u7u7sPQHd3d3d39xJAIyIiIiIiF0B4d3d3d/cXQKyqqqqqKhZAVVVVVVVVFEDv7u7u7m4SQHh3d3d3dxJAMzMzMzMzF0AREREREZEiQHd3d3d3NyNA3t3d3d3dIUBnZmZmZiYgQO/u7u7ubh1AIyIiIiKiGECamZmZmRkVQAAAAAAAgBNA\",\"dtype\":\"float64\",\"shape\":[69]}}},\"id\":\"3ca421c3-56fa-4ecd-a212-965e10488a64\",\"type\":\"ColumnDataSource\"},{\"attributes\":{},\"id\":\"026e81ff-4c39-4e89-86c0-c27d8cc2a74c\",\"type\":\"PanTool\"},{\"attributes\":{\"axis_label\":\"year\",\"formatter\":{\"id\":\"6171311d-897f-4fe6-aab9-4998bf5a8593\",\"type\":\"BasicTickFormatter\"},\"plot\":{\"id\":\"628250ad-a332-413d-ba55-6e7462684621\",\"subtype\":\"Figure\",\"type\":\"Plot\"},\"ticker\":{\"id\":\"135413be-57f3-40a1-a868-8c23c7534e12\",\"type\":\"BasicTicker\"}},\"id\":\"57f1361a-ecc8-4e72-801b-d14e257e6127\",\"type\":\"LinearAxis\"},{\"attributes\":{},\"id\":\"135413be-57f3-40a1-a868-8c23c7534e12\",\"type\":\"BasicTicker\"},{\"attributes\":{\"line_alpha\":{\"value\":0.1},\"line_color\":{\"value\":\"#1f77b4\"},\"line_width\":{\"value\":4},\"x\":{\"field\":\"x\"},\"y\":{\"field\":\"y\"}},\"id\":\"1bbf93fd-81ee-4718-b5f6-12bfe83320ce\",\"type\":\"Line\"},{\"attributes\":{},\"id\":\"62ab1a81-3238-43c7-be31-9a008ddbddca\",\"type\":\"LinearScale\"},{\"attributes\":{},\"id\":\"814eb8fd-f659-4635-acfd-613debaf81a3\",\"type\":\"BasicTicker\"},{\"attributes\":{\"callback\":null,\"column_names\":[\"x\",\"y\"],\"data\":{\"x\":[1948,1949,1950,1951,1952,1953,1954,1955,1956,1957,1958,1959,1960,1961,1962,1963,1964,1965,1966,1967,1968,1969,1970,1971,1972,1973,1974,1975,1976,1977,1978,1979,1980,1981,1982,1983,1984,1985,1986,1987,1988,1989,1990,1991,1992,1993,1994,1995,1996,1997,1998,1999,2000,2001,2002,2003,2004,2005,2006,2007,2008,2009,2010,2011,2012,2013,2014,2015,2016],\"y\":{\"__ndarray__\":\"ZmZmZmZm5r8AAAAAAAAkQGZmZmZmZi9AmpmZmZmZF0AAAAAAAAAYQDMzMzMzM9M/zczMzMzMIUBmZmZmZmYWQAAAAAAAABZAAAAAAAAA+D/NzMzMzMwgQAAAAAAAABBAmpmZmZmZDUCamZmZmZkdQGZmZmZmZhZAmpmZmZmZHUDNzMzMzMwgQDMzMzMzMyNAzczMzMzMFkDNzMzMzMwiQGZmZmZmZiBAAAAAAAAAFkAAAAAAAAAhQJqZmZmZmSNAzczMzMzMJkDNzMzMzMwgQAAAAAAAACJAZmZmZmZmJkAzMzMzMzMmQAAAAAAAACpAZmZmZmZmJ0CamZmZmZkhQGZmZmZmZihAMzMzMzMzEUBmZmZmZmYhQDMzMzMzMyZAAAAAAAAAHkAAAAAAAAAWQAAAAAAAABhAmpmZmZmZH0DNzMzMzMweQM3MzMzMzBZAZmZmZmZmCkCamZmZmZkXQM3MzMzMzBRAMzMzMzMzGUAzMzMzMzMTQM3MzMzMzBZAzczMzMzMGEDNzMzMzMwWQDMzMzMzMxlAAAAAAAAAGkCamZmZmZkJQDMzMzMzMwtAMzMzMzMzE0BmZmZmZmYaQM3MzMzMzBpAAAAAAAAAGEBmZmZmZmYSQM3MzMzMzPw/zczMzMzM/L9mZmZmZmYOQJqZmZmZmQ1AzczMzMzMEEDNzMzMzMwMQJqZmZmZmRFAAAAAAAAAEECamZmZmZkFQM3MzMzMzBBA\",\"dtype\":\"float64\",\"shape\":[69]}}},\"id\":\"646fddd4-bf37-4dc8-a580-865e65e5dc21\",\"type\":\"ColumnDataSource\"},{\"attributes\":{\"plot\":null,\"text\":\" GDP and Unemployment Data in the US\"},\"id\":\"7ff9dd19-3cd7-4ef8-a38e-dbbf05cfb834\",\"type\":\"Title\"},{\"attributes\":{\"dimension\":1,\"plot\":{\"id\":\"628250ad-a332-413d-ba55-6e7462684621\",\"subtype\":\"Figure\",\"type\":\"Plot\"},\"ticker\":{\"id\":\"814eb8fd-f659-4635-acfd-613debaf81a3\",\"type\":\"BasicTicker\"}},\"id\":\"f66d6710-eac9-47c0-8c24-9ff23963d8a7\",\"type\":\"Grid\"},{\"attributes\":{\"plot\":{\"id\":\"628250ad-a332-413d-ba55-6e7462684621\",\"subtype\":\"Figure\",\"type\":\"Plot\"},\"ticker\":{\"id\":\"135413be-57f3-40a1-a868-8c23c7534e12\",\"type\":\"BasicTicker\"}},\"id\":\"88164e82-60fe-4c5e-a2a6-96466fdcb87c\",\"type\":\"Grid\"},{\"attributes\":{},\"id\":\"7fe5ef9d-5f72-4322-99b8-33e9cd8a899a\",\"type\":\"WheelZoomTool\"},{\"attributes\":{\"axis_label\":\"%\",\"formatter\":{\"id\":\"4385e5a8-cff1-4069-94ac-f0767e0ba4be\",\"type\":\"BasicTickFormatter\"},\"plot\":{\"id\":\"628250ad-a332-413d-ba55-6e7462684621\",\"subtype\":\"Figure\",\"type\":\"Plot\"},\"ticker\":{\"id\":\"814eb8fd-f659-4635-acfd-613debaf81a3\",\"type\":\"BasicTicker\"}},\"id\":\"07a46593-9be0-46a1-bfdb-355c11841f55\",\"type\":\"LinearAxis\"},{\"attributes\":{\"callback\":null},\"id\":\"698cde80-30a7-40e4-afd8-68fbc04eb99f\",\"type\":\"DataRange1d\"},{\"attributes\":{},\"id\":\"4385e5a8-cff1-4069-94ac-f0767e0ba4be\",\"type\":\"BasicTickFormatter\"},{\"attributes\":{\"callback\":null},\"id\":\"53b06bba-a1e8-46df-9efd-89b1eefe5c11\",\"type\":\"DataRange1d\"},{\"attributes\":{\"bottom_units\":\"screen\",\"fill_alpha\":{\"value\":0.5},\"fill_color\":{\"value\":\"lightgrey\"},\"left_units\":\"screen\",\"level\":\"overlay\",\"line_alpha\":{\"value\":1.0},\"line_color\":{\"value\":\"black\"},\"line_dash\":[4,4],\"line_width\":{\"value\":2},\"plot\":null,\"render_mode\":\"css\",\"right_units\":\"screen\",\"top_units\":\"screen\"},\"id\":\"4b80ba12-755e-408d-92c9-6537613043a9\",\"type\":\"BoxAnnotation\"},{\"attributes\":{},\"id\":\"2e0d5d83-f002-4ce0-a1dd-46b57105a152\",\"type\":\"HelpTool\"},{\"attributes\":{},\"id\":\"c9c28e17-6d24-48c8-b966-b3cb472dad10\",\"type\":\"ResetTool\"},{\"attributes\":{\"label\":{\"value\":\"% GDP change\"},\"renderers\":[{\"id\":\"4f62c930-d430-47eb-a5c3-fc7e4dcb61b8\",\"type\":\"GlyphRenderer\"}]},\"id\":\"f109df44-e498-4d6c-811c-efbca4a05124\",\"type\":\"LegendItem\"},{\"attributes\":{\"below\":[{\"id\":\"57f1361a-ecc8-4e72-801b-d14e257e6127\",\"type\":\"LinearAxis\"}],\"left\":[{\"id\":\"07a46593-9be0-46a1-bfdb-355c11841f55\",\"type\":\"LinearAxis\"}],\"renderers\":[{\"id\":\"57f1361a-ecc8-4e72-801b-d14e257e6127\",\"type\":\"LinearAxis\"},{\"id\":\"88164e82-60fe-4c5e-a2a6-96466fdcb87c\",\"type\":\"Grid\"},{\"id\":\"07a46593-9be0-46a1-bfdb-355c11841f55\",\"type\":\"LinearAxis\"},{\"id\":\"f66d6710-eac9-47c0-8c24-9ff23963d8a7\",\"type\":\"Grid\"},{\"id\":\"4b80ba12-755e-408d-92c9-6537613043a9\",\"type\":\"BoxAnnotation\"},{\"id\":\"11356a32-b20c-4e3b-8c9d-9d96a36f8af8\",\"type\":\"Legend\"},{\"id\":\"4f62c930-d430-47eb-a5c3-fc7e4dcb61b8\",\"type\":\"GlyphRenderer\"},{\"id\":\"4a97003c-9deb-43f6-b832-1cb9d16e28d7\",\"type\":\"GlyphRenderer\"}],\"title\":{\"id\":\"7ff9dd19-3cd7-4ef8-a38e-dbbf05cfb834\",\"type\":\"Title\"},\"toolbar\":{\"id\":\"78e3f6f0-1acb-4ee9-9b4f-2952bf3de9e0\",\"type\":\"Toolbar\"},\"x_range\":{\"id\":\"53b06bba-a1e8-46df-9efd-89b1eefe5c11\",\"type\":\"DataRange1d\"},\"x_scale\":{\"id\":\"5f1b6f28-23d6-4db0-ab3a-6deb48e082ab\",\"type\":\"LinearScale\"},\"y_range\":{\"id\":\"698cde80-30a7-40e4-afd8-68fbc04eb99f\",\"type\":\"DataRange1d\"},\"y_scale\":{\"id\":\"62ab1a81-3238-43c7-be31-9a008ddbddca\",\"type\":\"LinearScale\"}},\"id\":\"628250ad-a332-413d-ba55-6e7462684621\",\"subtype\":\"Figure\",\"type\":\"Plot\"},{\"attributes\":{\"line_color\":{\"value\":\"#1f77b4\"},\"line_width\":{\"value\":4},\"x\":{\"field\":\"x\"},\"y\":{\"field\":\"y\"}},\"id\":\"6b606899-f674-4774-8c77-445e88ba8384\",\"type\":\"Line\"},{\"attributes\":{\"overlay\":{\"id\":\"4b80ba12-755e-408d-92c9-6537613043a9\",\"type\":\"BoxAnnotation\"}},\"id\":\"faf98581-b7bc-45bc-af2d-240251477cb8\",\"type\":\"BoxZoomTool\"},{\"attributes\":{\"source\":{\"id\":\"3ca421c3-56fa-4ecd-a212-965e10488a64\",\"type\":\"ColumnDataSource\"}},\"id\":\"40f6f0a7-865d-46b0-93f6-f719add77f3f\",\"type\":\"CDSView\"},{\"attributes\":{},\"id\":\"6171311d-897f-4fe6-aab9-4998bf5a8593\",\"type\":\"BasicTickFormatter\"},{\"attributes\":{\"line_alpha\":{\"value\":0.1},\"line_color\":{\"value\":\"#1f77b4\"},\"line_width\":{\"value\":4},\"x\":{\"field\":\"x\"},\"y\":{\"field\":\"y\"}},\"id\":\"a8116428-1301-4c1d-be54-447bf4200524\",\"type\":\"Line\"},{\"attributes\":{},\"id\":\"5f1b6f28-23d6-4db0-ab3a-6deb48e082ab\",\"type\":\"LinearScale\"},{\"attributes\":{\"data_source\":{\"id\":\"3ca421c3-56fa-4ecd-a212-965e10488a64\",\"type\":\"ColumnDataSource\"},\"glyph\":{\"id\":\"6b606899-f674-4774-8c77-445e88ba8384\",\"type\":\"Line\"},\"hover_glyph\":null,\"muted_glyph\":null,\"nonselection_glyph\":{\"id\":\"1bbf93fd-81ee-4718-b5f6-12bfe83320ce\",\"type\":\"Line\"},\"selection_glyph\":null,\"view\":{\"id\":\"40f6f0a7-865d-46b0-93f6-f719add77f3f\",\"type\":\"CDSView\"}},\"id\":\"4a97003c-9deb-43f6-b832-1cb9d16e28d7\",\"type\":\"GlyphRenderer\"},{\"attributes\":{\"source\":{\"id\":\"646fddd4-bf37-4dc8-a580-865e65e5dc21\",\"type\":\"ColumnDataSource\"}},\"id\":\"6a193584-1606-45f6-93f4-9e674cabe43c\",\"type\":\"CDSView\"},{\"attributes\":{\"data_source\":{\"id\":\"646fddd4-bf37-4dc8-a580-865e65e5dc21\",\"type\":\"ColumnDataSource\"},\"glyph\":{\"id\":\"2f7deb1b-52e6-4ff8-8750-071fa1ee07bc\",\"type\":\"Line\"},\"hover_glyph\":null,\"muted_glyph\":null,\"nonselection_glyph\":{\"id\":\"a8116428-1301-4c1d-be54-447bf4200524\",\"type\":\"Line\"},\"selection_glyph\":null,\"view\":{\"id\":\"6a193584-1606-45f6-93f4-9e674cabe43c\",\"type\":\"CDSView\"}},\"id\":\"4f62c930-d430-47eb-a5c3-fc7e4dcb61b8\",\"type\":\"GlyphRenderer\"},{\"attributes\":{\"items\":[{\"id\":\"f109df44-e498-4d6c-811c-efbca4a05124\",\"type\":\"LegendItem\"},{\"id\":\"ae1f6bee-a348-4181-be2c-9bd1d4710582\",\"type\":\"LegendItem\"}],\"plot\":{\"id\":\"628250ad-a332-413d-ba55-6e7462684621\",\"subtype\":\"Figure\",\"type\":\"Plot\"}},\"id\":\"11356a32-b20c-4e3b-8c9d-9d96a36f8af8\",\"type\":\"Legend\"}],\"root_ids\":[\"628250ad-a332-413d-ba55-6e7462684621\"]},\"title\":\"Bokeh Application\",\"version\":\"0.12.10\"}};\n    var render_items = [{\"docid\":\"f8abb5d5-2401-4d40-b444-1c9579d6f8f7\",\"elementid\":\"57149d55-a48a-419e-b1c2-83bae50eb9a5\",\"modelid\":\"628250ad-a332-413d-ba55-6e7462684621\"}];\n\n    root.Bokeh.embed.embed_items(docs_json, render_items);\n  }\n\n  if (root.Bokeh !== undefined) {\n    embed_document(root);\n  } else {\n    var attempts = 0;\n    var timer = setInterval(function(root) {\n      if (root.Bokeh !== undefined) {\n        embed_document(root);\n        clearInterval(timer);\n      }\n      attempts++;\n      if (attempts > 100) {\n        console.log(\"Bokeh: ERROR: Unable to embed document because BokehJS library is missing\")\n        clearInterval(timer);\n      }\n    }, 10, root)\n  }\n})(window);", 
                        "application/vnd.bokehjs_exec.v0+json": ""
                    }, 
                    "metadata": {
                        "application/vnd.bokehjs_exec.v0+json": {
                            "id": "628250ad-a332-413d-ba55-6e7462684621"
                        }
                    }
                }
            ], 
            "source": "# Fill up the parameters in the following function:\n# make_dashboard(x=, gdp_change=, unemployment=, title=, file_name=)\nmake_dashboard(x,gdp_change,unemployment,title,file_name)"
        }, 
        {
            "source": "<h3 id=\"Section_5\">Question 5: Save the dashboard on IBM cloud and display it</h3>", 
            "cell_type": "markdown", 
            "metadata": {}
        }, 
        {
            "source": "From the tutorial <i>PROVISIONING AN OBJECT STORAGE INSTANCE ON IBM CLOUD</i> copy the JSON object containing the credentials you created. You\u2019ll want to store everything you see in a credentials variable like the one below (obviously, replace the placeholder values with your own). Take special note of your <code>access_key_id</code> and <code>secret_access_key</code>. <b>Do not delete <code># @hidden_cell </code> as this will not allow people to see your credentials when you share your notebook. </b>", 
            "cell_type": "markdown", 
            "metadata": {}
        }, 
        {
            "source": "<code>\ncredentials = {<br>\n &nbsp; \"apikey\": \"your-api-key\",<br>\n &nbsp; \"cos_hmac_keys\": {<br>\n &nbsp;  \"access_key_id\": \"your-access-key-here\", <br>\n &nbsp;   \"secret_access_key\": \"your-secret-access-key-here\"<br>\n &nbsp; },<br>\n</code>\n<code>\n   &nbsp;\"endpoints\": \"your-endpoints\",<br>\n &nbsp; \"iam_apikey_description\": \"your-iam_apikey_description\",<br>\n &nbsp; \"iam_apikey_name\": \"your-iam_apikey_name\",<br>\n &nbsp; \"iam_role_crn\": \"your-iam_apikey_name\",<br>\n &nbsp;  \"iam_serviceid_crn\": \"your-iam_serviceid_crn\",<br>\n &nbsp;\"resource_instance_id\": \"your-resource_instance_id\"<br>\n}\n</code>", 
            "cell_type": "markdown", 
            "metadata": {}
        }, 
        {
            "execution_count": 31, 
            "cell_type": "code", 
            "metadata": {}, 
            "outputs": [], 
            "source": "# The code was removed by Watson Studio for sharing."
        }, 
        {
            "source": "You will need the endpoint make sure the setting are the same as <i> PROVISIONING AN OBJECT STORAGE INSTANCE ON IBM CLOUD </i> assign the name of your bucket to the variable  <code>bucket_name </code> ", 
            "cell_type": "markdown", 
            "metadata": {}
        }, 
        {
            "execution_count": 32, 
            "cell_type": "code", 
            "metadata": {}, 
            "outputs": [], 
            "source": "endpoint = 'https://s3-api.us-geo.objectstorage.softlayer.net'"
        }, 
        {
            "source": "From the tutorial <i> PROVISIONING AN OBJECT STORAGE INSTANCE ON IBM CLOUD </i> assign the name of your bucket to the variable  <code>bucket_name </code> ", 
            "cell_type": "markdown", 
            "metadata": {}
        }, 
        {
            "execution_count": 33, 
            "cell_type": "code", 
            "metadata": {}, 
            "outputs": [], 
            "source": " # Type your bucket name on IBM Cloud\nbucket_name = 'bucket-ibmcoursera'"
        }, 
        {
            "source": "We can access IBM Cloud Object Storage with Python useing the <code>boto3</code> library, which we\u2019ll import below:", 
            "cell_type": "markdown", 
            "metadata": {}
        }, 
        {
            "execution_count": 34, 
            "cell_type": "code", 
            "metadata": {}, 
            "outputs": [], 
            "source": "import boto3"
        }, 
        {
            "source": "We can interact with IBM Cloud Object Storage through a <code>boto3</code> resource object.", 
            "cell_type": "markdown", 
            "metadata": {}
        }, 
        {
            "execution_count": 35, 
            "cell_type": "code", 
            "metadata": {}, 
            "outputs": [], 
            "source": "resource = boto3.resource(\n    's3',\n    aws_access_key_id = credentials[\"cos_hmac_keys\"]['access_key_id'],\n    aws_secret_access_key = credentials[\"cos_hmac_keys\"][\"secret_access_key\"],\n    endpoint_url = endpoint,\n)"
        }, 
        {
            "source": "We are going to use  <code>open</code> to create a file object. To get the path of the file, you are going to concatenate the name of the file stored in the variable <code>file_name</code>. The directory stored in the variable directory using the <code>+</code> operator and assign it to the variable \n<code>html_path</code>. We will use the function <code>getcwd()</code> to find current the working directory.", 
            "cell_type": "markdown", 
            "metadata": {}
        }, 
        {
            "execution_count": 38, 
            "cell_type": "code", 
            "metadata": {}, 
            "outputs": [], 
            "source": "import os\n\ndirectory = os.getcwd()\nhtml_path = directory + \"/\" + file_name"
        }, 
        {
            "source": "Now you must read the html file, use the function <code>f = open(html_path, mode)</code> to create a file object and assign it to the variable <code>f</code>. The parameter <code>file</code> should be the variable <code>html_path</code>, the mode should be <code>\"r\"</code> for read. ", 
            "cell_type": "markdown", 
            "metadata": {}
        }, 
        {
            "execution_count": 39, 
            "cell_type": "code", 
            "metadata": {}, 
            "outputs": [], 
            "source": "# Type your code here\nf= open(html_path,\"r\")"
        }, 
        {
            "source": "To load your dataset into the bucket we will use the method <code>put_object</code>, you must set the parameter name to the name of the bucket, the parameter <code>Key</code> should be the name of the HTML file and the value for the parameter Body  should be set to <code>f.read()</code>.", 
            "cell_type": "markdown", 
            "metadata": {}
        }, 
        {
            "execution_count": 41, 
            "cell_type": "code", 
            "metadata": {}, 
            "outputs": [
                {
                    "execution_count": 41, 
                    "metadata": {}, 
                    "data": {
                        "text/plain": "s3.Object(bucket_name='bucket-ibmcoursera', key='index.html')"
                    }, 
                    "output_type": "execute_result"
                }
            ], 
            "source": "# Fill up the parameters in the following function:\n# resource.Bucket(name=).put_object(Key=, Body=)\nresource.Bucket(bucket_name).put_object(Key=file_name,Body=f.read())"
        }, 
        {
            "source": "In the dictionary <code>Params</code> provide the bucket name  as the value for the key <i>'Bucket'</i>. Also for the value of the key <i>'Key'</i> add the name of the <code>html</code> file, both values should be strings.", 
            "cell_type": "markdown", 
            "metadata": {}
        }, 
        {
            "execution_count": 43, 
            "cell_type": "code", 
            "metadata": {}, 
            "outputs": [], 
            "source": "# Fill in the value for each key\nParams = {'Bucket': bucket_name ,'Key': file_name}"
        }, 
        {
            "source": "The following lines of code will generate a URL to share your dashboard. The URL only last seven days, but don't worry you will get full marks if the URL is visible in your notebook.  ", 
            "cell_type": "markdown", 
            "metadata": {}
        }, 
        {
            "execution_count": 44, 
            "cell_type": "code", 
            "metadata": {}, 
            "outputs": [
                {
                    "output_type": "stream", 
                    "name": "stdout", 
                    "text": "https://s3-api.us-geo.objectstorage.softlayer.net/bucket-ibmcoursera/index.html?AWSAccessKeyId=4e0b293d7b1c4fc2bb8313ff7741db95&Signature=XHk6UilB81Bm0lJ8POM3GHuMSUg%3D&Expires=1560645072\n"
                }
            ], 
            "source": "import sys\ntime = 7*24*60**2\nclient = boto3.client(\n    's3',\n    aws_access_key_id = credentials[\"cos_hmac_keys\"]['access_key_id'],\n    aws_secret_access_key = credentials[\"cos_hmac_keys\"][\"secret_access_key\"],\n    endpoint_url=endpoint,\n\n)\nurl = client.generate_presigned_url('get_object',Params=Params,ExpiresIn=time)\nprint(url)"
        }, 
        {
            "source": "<h2 id=\"Section_5\">  How to submit </h2>", 
            "cell_type": "markdown", 
            "metadata": {}
        }, 
        {
            "source": "<p>Once you complete your notebook you will have to share it to be marked. Select the icon on the top right a marked in red in the image below, a dialogue box should open, select the option all&nbsp;content excluding sensitive code cells.</p>\n\n<p><img height=\"440\" width=\"700\" src=\"https://s3-api.us-geo.objectstorage.softlayer.net/cf-courses-data/CognitiveClass/PY0101EN/projects/EdX/ReadMe%20files/share_noteook1.png\" alt=\"share notebook\" /></p>\n<p></p>\n\n<p>You can then share the notebook&nbsp; via a&nbsp; URL by scrolling down as shown in the following image:</p>\n<p style=\"text-align: center;\"> <img height=\"308\" width=\"350\" src=\"https://s3-api.us-geo.objectstorage.softlayer.net/cf-courses-data/CognitiveClass/PY0101EN/projects/EdX/ReadMe%20files/link2.png\"  alt=\"share notebook\" /> </p>", 
            "cell_type": "markdown", 
            "metadata": {}
        }, 
        {
            "source": "<hr>\n<p>Copyright &copy; 2019 IBM Developer Skills Network. This notebook and its source code are released under the terms of the <a href=\"https://cognitiveclass.ai/mit-license/\">MIT License</a>.</p>", 
            "cell_type": "markdown", 
            "metadata": {}
        }, 
        {
            "source": "<h2>About the Authors:</h2> \n\n<a href=\"https://www.linkedin.com/in/joseph-s-50398b136/\">Joseph Santarcangelo</a> has a PhD in Electrical Engineering, his research focused on using machine learning, signal processing, and computer vision to determine how videos impact human cognition. Joseph has been working for IBM since he completed his PhD.\n<p>\nOther contributors: <a href=\"https://www.linkedin.com/in/yi-leng-yao-84451275/\">Yi leng Yao</a>, <a href=\"www.linkedin.com/in/jiahui-mavis-zhou-a4537814a\">Mavis Zhou</a> \n</p>", 
            "cell_type": "markdown", 
            "metadata": {}
        }, 
        {
            "source": "<h2>References :</h2> ", 
            "cell_type": "markdown", 
            "metadata": {}
        }, 
        {
            "source": "<ul>\n <il>\n     1) <a href=\"https://research.stlouisfed.org/\">Economic Research at the St. Louis Fed </a>:<a href=\"https://fred.stlouisfed.org/series/UNRATE/\"> Civilian Unemployment Rate</a>\n   </il>   \n    <p>\n     <il>\n    2) <a href=\"https://github.com/datasets\">Data Packaged Core Datasets\n       </a>\n   </il> \n    </p>\n    \n</ul>\n</div>", 
            "cell_type": "markdown", 
            "metadata": {}
        }
    ], 
    "metadata": {
        "kernelspec": {
            "display_name": "Python 3.5", 
            "name": "python3", 
            "language": "python"
        }, 
        "language_info": {
            "mimetype": "text/x-python", 
            "nbconvert_exporter": "python", 
            "version": "3.5.5", 
            "name": "python", 
            "file_extension": ".py", 
            "pygments_lexer": "ipython3", 
            "codemirror_mode": {
                "version": 3, 
                "name": "ipython"
            }
        }
    }, 
    "nbformat": 4
}