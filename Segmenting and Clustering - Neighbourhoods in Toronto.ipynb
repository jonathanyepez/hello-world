{
 "cells": [
  {
   "cell_type": "markdown",
   "metadata": {},
   "source": [
    "# Peer-graded Assignment: Segmenting and Clustering Neighborhoods in Toronto - Week 3 Assessment"
   ]
  },
  {
   "cell_type": "markdown",
   "metadata": {},
   "source": [
    "First, it is necessary to import all the required dependencies and libraries"
   ]
  },
  {
   "cell_type": "code",
   "execution_count": 106,
   "metadata": {
    "scrolled": false
   },
   "outputs": [],
   "source": [
    "#import\n",
    "import pandas as pd\n",
    "from bs4 import BeautifulSoup\n",
    "import requests\n",
    "import collections\n",
    "#file = open(filename, encoding=\"utf8\")\n",
    "#Alternatively, if we want to feed the webpage directly we can do the following:\n",
    "source=requests.get('https://en.wikipedia.org/wiki/List_of_postal_codes_of_Canada:_M').text\n",
    "newsoup = BeautifulSoup(source, 'lxml')\n",
    "#print(newsoup.prettify())"
   ]
  },
  {
   "cell_type": "code",
   "execution_count": 107,
   "metadata": {},
   "outputs": [
    {
     "name": "stdout",
     "output_type": "stream",
     "text": [
      "['Postcode', 'Borough', 'Neighbourhood']\n"
     ]
    }
   ],
   "source": [
    "tbl = newsoup.find('tbody') #find the table body element where all the information is embedded\n",
    "\n",
    "trs= tbl.find_all('tr') #find all the table rows containing the information\n",
    "#print(trs[0])\n",
    "\n",
    "#from the first table row trs[0], obtain the table headings and save them in an array of strings\n",
    "titles=trs[0].find_all('th')\n",
    "title1=titles[0].text\n",
    "title2=titles[1].text\n",
    "title3=titles[2].text\n",
    "title3=title3.split('\\n')[0]\n",
    "titles=[title1,title2,title3] #these are the titles for the dataframe colums\n",
    "print(titles)"
   ]
  },
  {
   "cell_type": "code",
   "execution_count": 126,
   "metadata": {},
   "outputs": [
    {
     "data": {
      "text/html": [
       "<div>\n",
       "<style scoped>\n",
       "    .dataframe tbody tr th:only-of-type {\n",
       "        vertical-align: middle;\n",
       "    }\n",
       "\n",
       "    .dataframe tbody tr th {\n",
       "        vertical-align: top;\n",
       "    }\n",
       "\n",
       "    .dataframe thead th {\n",
       "        text-align: right;\n",
       "    }\n",
       "</style>\n",
       "<table border=\"1\" class=\"dataframe\">\n",
       "  <thead>\n",
       "    <tr style=\"text-align: right;\">\n",
       "      <th></th>\n",
       "      <th>pcode</th>\n",
       "      <th>boroughs</th>\n",
       "      <th>neighbourhoods</th>\n",
       "    </tr>\n",
       "  </thead>\n",
       "  <tbody>\n",
       "    <tr>\n",
       "      <th>53</th>\n",
       "      <td>M5A</td>\n",
       "      <td>Downtown Toronto</td>\n",
       "      <td>Harbourfront, Regent Park</td>\n",
       "    </tr>\n",
       "  </tbody>\n",
       "</table>\n",
       "</div>"
      ],
      "text/plain": [
       "   pcode          boroughs             neighbourhoods\n",
       "53   M5A  Downtown Toronto  Harbourfront, Regent Park"
      ]
     },
     "execution_count": 126,
     "metadata": {},
     "output_type": "execute_result"
    }
   ],
   "source": [
    "\n",
    "info = []\n",
    "postcodes=[]\n",
    "boroughs=[]\n",
    "neighbourhoods=[]\n",
    "\n",
    "for x in range(1,len(trs)):  #this would be the beginning of the code needed to iterate over the rest of the rows\n",
    "\n",
    "#trying with the first row containing valuable informtaion:\n",
    "    tds=trs[x].find_all('td') #from the row, find all the tds\n",
    "    cell1=tds[0].text\n",
    "    cell2=tds[1].text\n",
    "    cell3=tds[2].text.split('\\n')[0]\n",
    "    if cell2 != 'Not assigned':\n",
    "        if cell3 == 'Not assigned':\n",
    "            cell3=cell2\n",
    "        row1=[cell1,cell2,cell3]\n",
    "        postcodes.append(cell1) #append the the first cell of the row (Postcode) to the postcodes list\n",
    "        boroughs.append(cell2) #append the second cell of the row (Borough) to the boroughs list\n",
    "        neighbourhoods.append(cell3) #append the third cell of the row (Neighbourhood) to the neighbourhoods list\n",
    "        \n",
    "        info.append(row1) #create a list with lists containing the rows of the Postcodes' table and append information\n",
    "        \n",
    "#print(info) #in case someone wants to look at the information collected from the website\n",
    "\n",
    "columnas={'pcode':postcodes,'boroughs':boroughs,'neighbourhoods':neighbourhoods}\n",
    "df=pd.DataFrame(columnas)\n",
    "\n",
    "len(df.pcode.unique())\n",
    "\n",
    "df = df.groupby(['pcode','boroughs'])['neighbourhoods'].apply(', '.join).reset_index()\n",
    "\n",
    "df.head()\n",
    "\n",
    "df.loc[df['pcode'] == 'M5A']\n"
   ]
  },
  {
   "cell_type": "markdown",
   "metadata": {},
   "source": [
    "Then, we start scraping the Wikipedia page: https://en.wikipedia.org/wiki/List_of_postal_codes_of_Canada:_M "
   ]
  },
  {
   "cell_type": "markdown",
   "metadata": {},
   "source": [
    "One of the most commong packages is BeautifulSoup (http://beautiful-soup-4.readthedocs.io/en/latest/)"
   ]
  },
  {
   "cell_type": "markdown",
   "metadata": {},
   "source": [
    "\n",
    "When processing the information to produce a proper dataframe, it is important to consider the following\n",
    "\n",
    "   <ul>\n",
    "      <li>The dataframe will consist of three columns: PostalCode, Borough, and Neighborhood</li>\n",
    "      <li>Only process the cells that have an assigned borough</li>\n",
    "        <ul>\n",
    "            <li>Ignore cells with a borough that is <strong>Not assigned</strong>.</li>\n",
    "        </ul>\n",
    "      <li>More than one neighborhood can exist in one postal code area. For example, in the table on the Wikipedia page, you will notice that M5A is listed twice and has two neighborhoods: Harbourfront and Regent Park. These two rows will be combined into one row with the neighborhoods separated with a comma as shown in row 11 in the above table.</li>\n",
    "    </ul>"
   ]
  },
  {
   "cell_type": "code",
   "execution_count": null,
   "metadata": {},
   "outputs": [],
   "source": []
  }
 ],
 "metadata": {
  "kernelspec": {
   "display_name": "Python 3",
   "language": "python",
   "name": "python3"
  },
  "language_info": {
   "codemirror_mode": {
    "name": "ipython",
    "version": 3
   },
   "file_extension": ".py",
   "mimetype": "text/x-python",
   "name": "python",
   "nbconvert_exporter": "python",
   "pygments_lexer": "ipython3",
   "version": "3.7.0"
  }
 },
 "nbformat": 4,
 "nbformat_minor": 2
}
